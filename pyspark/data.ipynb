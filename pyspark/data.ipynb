{
 "cells": [
  {
   "cell_type": "markdown",
   "metadata": {},
   "source": [
    "# Generating and Saving Data to S3 from PySpark\n",
    "Author: Imad Ali  \n",
    "Date: 2021-07-22"
   ]
  },
  {
   "cell_type": "code",
   "execution_count": 1,
   "metadata": {},
   "outputs": [],
   "source": [
    "import os\n",
    "import numpy as np\n",
    "import pandas as pd\n",
    "import boto3\n",
    "from pyspark import SparkConf, SparkContext\n",
    "from pyspark.sql import SparkSession"
   ]
  },
  {
   "cell_type": "markdown",
   "metadata": {},
   "source": [
    "To allow pyspark to write to S3 you'll need to have your credentials setup and will need to download the relevant jars from maven to work with the AWS services.\n",
    "* hadoop-aws\n",
    "* aws-java-sdk-bundle\n",
    "\n",
    "Since we're working within a Python virtual environment these need to download these jars into the `.../site-packages/pyspark/jars`. If you're not using a virtual environment then these jars would need to be downloaded into `~/spark/spark-<version>-bin-hadoop<version>/jars`.\n",
    "\n",
    "You can go to the [spark core](https://mvnrepository.com/artifact/org.apache.spark/spark-core_2.12/3.1.2) page on maven to find the hadoop-aws jar that can be used given the version of spark that you're using. And then you can find aws-java-sdk jar dependency on the hadoop-aws page. In this example the spark version is 3.1.2 so I'm using hadoop-aws-3.2.0.jar and aws-java-sdk-bundle-1.11.375.jar\n",
    "\n",
    "```\n",
    "# bash\n",
    "wget https://repo1.maven.org/maven2/org/apache/hadoop/hadoop-aws/3.2.0/hadoop-aws-3.2.0.jar -P ~/.venv/sandbox/lib/python3.8/site-packages/pyspark/jars/\n",
    "\n",
    "wget https://repo1.maven.org/maven2/com/amazonaws/aws-java-sdk-bundle/1.11.375/aws-java-sdk-bundle-1.11.375.jar -P ~/.venv/sandbox/lib/python3.8/site-packages/pyspark/jars/\n",
    "```\n",
    "\n",
    "(This [page](https://www.jitsejan.com/integrating-pyspark-notebook-with-s3) provides detail on how to do this within a Docker container.)"
   ]
  },
  {
   "cell_type": "code",
   "execution_count": 2,
   "metadata": {},
   "outputs": [],
   "source": [
    "creds = boto3.Session().get_credentials()\n",
    "sparkConf = SparkConf()\n",
    "sparkConf.set(\"spark.hadoop.fs.s3a.access.key\", creds.access_key)\n",
    "sparkConf.set(\"spark.hadoop.fs.s3a.secret.key\", creds.secret_key)\n",
    "sparkConf.set(\"spark.hadoop.fs.s3a.path.style.access\", True)\n",
    "sparkConf.set(\"spark.hadoop.fs.s3a.access.key\", creds.access_key)\n",
    "sparkConf.set(\"spark.hadoop.fs.s3a.secret.key\", creds.secret_key)\n",
    "sparkConf.set(\"spark.hadoop.fs.s3a.endpoint\", \"s3-us-east-2.amazonaws.com\")\n",
    "sparkConf.set(\"spark.hadoop.fs.s3a.impl\", \"org.apache.hadoop.fs.s3a.S3AFileSystem\")\n",
    "sparkConf.set(\"com.amazonaws.services.s3.enableV4\", True)\n",
    "sparkConf.set(\"spark.driver.extraJavaOptions\", \"-Dcom.amazonaws.services.s3.enableV4=true\")\n",
    "spark = SparkSession.builder.config(conf=sparkConf).getOrCreate()"
   ]
  },
  {
   "cell_type": "code",
   "execution_count": 3,
   "metadata": {},
   "outputs": [
    {
     "name": "stdout",
     "output_type": "stream",
     "text": [
      "Spark version: 3.1.2\n"
     ]
    }
   ],
   "source": [
    "print('Spark version: {0}'.format(spark.version))"
   ]
  },
  {
   "cell_type": "code",
   "execution_count": 4,
   "metadata": {},
   "outputs": [],
   "source": [
    "def data_generator(size:str) -> pd.DataFrame:\n",
    "    if size == 'small':\n",
    "        N = 1_000\n",
    "    elif size == 'medium':\n",
    "        N = 100_000\n",
    "    elif size == 'large':\n",
    "        N = 1_000_000\n",
    "    else:\n",
    "        raise Exception('Size must be one of [\"small\",\"medium\",\"large\"]')\n",
    "    data = pd.DataFrame({'v0': np.random.choice(['A','B','C','D','E'], size=N, replace=True),\n",
    "                         'v1': np.random.binomial(1, 0.5, N),\n",
    "                         'v2': np.random.normal(0, 1, N)})\n",
    "    return(data)"
   ]
  },
  {
   "cell_type": "code",
   "execution_count": 5,
   "metadata": {},
   "outputs": [
    {
     "name": "stdout",
     "output_type": "stream",
     "text": [
      "Data shape: (1000000, 3)\n",
      "\n",
      "  v0  v1        v2\n",
      "0  A   0 -0.090462\n",
      "1  E   0  0.386369\n",
      "2  A   0 -1.360810\n",
      "3  A   1  0.893191\n",
      "4  D   1 -0.636711\n"
     ]
    }
   ],
   "source": [
    "data_size = 'large'\n",
    "data = data_generator(data_size)\n",
    "print('Data shape: {0}\\n'.format(data.shape))\n",
    "print(data.head())"
   ]
  },
  {
   "cell_type": "code",
   "execution_count": 6,
   "metadata": {},
   "outputs": [
    {
     "name": "stdout",
     "output_type": "stream",
     "text": [
      "+---+---+--------------------+\n",
      "| v0| v1|                  v2|\n",
      "+---+---+--------------------+\n",
      "|  A|  0|-0.09046177847118464|\n",
      "|  E|  0| 0.38636902758408764|\n",
      "|  A|  0| -1.3608098979066194|\n",
      "|  A|  1|  0.8931909633636685|\n",
      "|  D|  1| -0.6367107539467987|\n",
      "+---+---+--------------------+\n",
      "only showing top 5 rows\n",
      "\n",
      "None\n"
     ]
    }
   ],
   "source": [
    "spark_data = spark.createDataFrame(data)\n",
    "print(spark_data.show(5))"
   ]
  },
  {
   "cell_type": "markdown",
   "metadata": {},
   "source": [
    "Write to S3"
   ]
  },
  {
   "cell_type": "code",
   "execution_count": 7,
   "metadata": {},
   "outputs": [],
   "source": [
    "s3_bucket = 'imad-pyspark-test/'\n",
    "s3_key = 'data/csv/' + data_size + '.csv'\n",
    "# spark_data.write.csv('s3a://' + s3_bucket + s3_key, mode='overwrite')\n",
    "data.to_csv('s3a://' + s3_bucket + s3_key, index=False)\n",
    "s3_key = 'data/parquet/' + data_size\n",
    "spark_data.write.parquet('s3a://' + s3_bucket + s3_key, mode='overwrite')"
   ]
  },
  {
   "cell_type": "code",
   "execution_count": null,
   "metadata": {},
   "outputs": [],
   "source": []
  }
 ],
 "metadata": {
  "kernelspec": {
   "display_name": "Python 3",
   "language": "python",
   "name": "python3"
  },
  "language_info": {
   "codemirror_mode": {
    "name": "ipython",
    "version": 3
   },
   "file_extension": ".py",
   "mimetype": "text/x-python",
   "name": "python",
   "nbconvert_exporter": "python",
   "pygments_lexer": "ipython3",
   "version": "3.8.7"
  }
 },
 "nbformat": 4,
 "nbformat_minor": 4
}
